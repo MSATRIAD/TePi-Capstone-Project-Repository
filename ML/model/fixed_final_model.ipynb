{
  "cells": [
    {
      "cell_type": "markdown",
      "metadata": {
        "id": "CtTwE3BzIGZW"
      },
      "source": [
        "#NutriScore"
      ]
    },
    {
      "cell_type": "markdown",
      "metadata": {
        "id": "OkM8ZiLBqsGS"
      },
      "source": [
        "## Neural Network"
      ]
    },
    {
      "cell_type": "code",
      "execution_count": 17,
      "metadata": {
        "id": "3UnVbIYRffnf"
      },
      "outputs": [],
      "source": [
        "import pandas as pd\n",
        "import numpy as np\n",
        "from sklearn.model_selection import train_test_split\n",
        "from sklearn.preprocessing import LabelEncoder\n",
        "from tensorflow import keras\n",
        "from tensorflow.keras import layers\n",
        "from tensorflow.keras.callbacks import EarlyStopping, ModelCheckpoint\n",
        "import matplotlib.pyplot as plt\n",
        "from tensorflow.keras.layers import Normalization"
      ]
    },
    {
      "cell_type": "code",
      "execution_count": 19,
      "metadata": {
        "id": "uYdJdFkx5Ox0"
      },
      "outputs": [],
      "source": [
        "data = pd.read_csv('../data/train_final.csv')"
      ]
    },
    {
      "cell_type": "code",
      "execution_count": 49,
      "metadata": {},
      "outputs": [
        {
          "data": {
            "text/html": [
              "<div>\n",
              "<style scoped>\n",
              "    .dataframe tbody tr th:only-of-type {\n",
              "        vertical-align: middle;\n",
              "    }\n",
              "\n",
              "    .dataframe tbody tr th {\n",
              "        vertical-align: top;\n",
              "    }\n",
              "\n",
              "    .dataframe thead th {\n",
              "        text-align: right;\n",
              "    }\n",
              "</style>\n",
              "<table border=\"1\" class=\"dataframe\">\n",
              "  <thead>\n",
              "    <tr style=\"text-align: right;\">\n",
              "      <th></th>\n",
              "      <th>product_name</th>\n",
              "      <th>energy-kcal_100g</th>\n",
              "      <th>sugars_100g</th>\n",
              "      <th>saturated-fat_100g</th>\n",
              "      <th>salt_100g</th>\n",
              "      <th>fruits-vegetables-nuts-estimate-from-ingredients_100g</th>\n",
              "      <th>fiber_100g</th>\n",
              "      <th>proteins_100g</th>\n",
              "      <th>nutriscore_grade</th>\n",
              "    </tr>\n",
              "  </thead>\n",
              "  <tbody>\n",
              "    <tr>\n",
              "      <th>0</th>\n",
              "      <td>Veganes Protein Vanille</td>\n",
              "      <td>384.0</td>\n",
              "      <td>0.30</td>\n",
              "      <td>0.2</td>\n",
              "      <td>0.80000</td>\n",
              "      <td>0.000000</td>\n",
              "      <td>4.9</td>\n",
              "      <td>74.10</td>\n",
              "      <td>B</td>\n",
              "    </tr>\n",
              "    <tr>\n",
              "      <th>1</th>\n",
              "      <td>Formula 1 healthy meal</td>\n",
              "      <td>380.0</td>\n",
              "      <td>13.00</td>\n",
              "      <td>1.8</td>\n",
              "      <td>1.30000</td>\n",
              "      <td>0.000172</td>\n",
              "      <td>20.0</td>\n",
              "      <td>40.00</td>\n",
              "      <td>D</td>\n",
              "    </tr>\n",
              "    <tr>\n",
              "      <th>2</th>\n",
              "      <td>Organic Coconut Sparkling Spring Water</td>\n",
              "      <td>0.0</td>\n",
              "      <td>0.00</td>\n",
              "      <td>0.0</td>\n",
              "      <td>0.00000</td>\n",
              "      <td>0.000000</td>\n",
              "      <td>0.0</td>\n",
              "      <td>0.00</td>\n",
              "      <td>A</td>\n",
              "    </tr>\n",
              "    <tr>\n",
              "      <th>3</th>\n",
              "      <td>Sparkling water</td>\n",
              "      <td>0.0</td>\n",
              "      <td>0.00</td>\n",
              "      <td>0.0</td>\n",
              "      <td>0.00000</td>\n",
              "      <td>0.000000</td>\n",
              "      <td>0.0</td>\n",
              "      <td>0.00</td>\n",
              "      <td>A</td>\n",
              "    </tr>\n",
              "    <tr>\n",
              "      <th>4</th>\n",
              "      <td>Ryan's, Lemonade</td>\n",
              "      <td>54.0</td>\n",
              "      <td>13.33</td>\n",
              "      <td>0.0</td>\n",
              "      <td>0.01000</td>\n",
              "      <td>15.832500</td>\n",
              "      <td>0.0</td>\n",
              "      <td>0.00</td>\n",
              "      <td>C</td>\n",
              "    </tr>\n",
              "    <tr>\n",
              "      <th>5</th>\n",
              "      <td>Apple cider</td>\n",
              "      <td>46.0</td>\n",
              "      <td>8.33</td>\n",
              "      <td>0.0</td>\n",
              "      <td>0.01500</td>\n",
              "      <td>0.000000</td>\n",
              "      <td>0.0</td>\n",
              "      <td>0.42</td>\n",
              "      <td>C</td>\n",
              "    </tr>\n",
              "    <tr>\n",
              "      <th>6</th>\n",
              "      <td>Pumpkin pie flavored apple cider drink, pumpki...</td>\n",
              "      <td>58.0</td>\n",
              "      <td>12.92</td>\n",
              "      <td>0.0</td>\n",
              "      <td>0.00000</td>\n",
              "      <td>18.750000</td>\n",
              "      <td>0.0</td>\n",
              "      <td>0.00</td>\n",
              "      <td>C</td>\n",
              "    </tr>\n",
              "    <tr>\n",
              "      <th>7</th>\n",
              "      <td>Caramel flavor apple cider drink</td>\n",
              "      <td>54.0</td>\n",
              "      <td>12.50</td>\n",
              "      <td>0.0</td>\n",
              "      <td>0.00000</td>\n",
              "      <td>0.000000</td>\n",
              "      <td>0.0</td>\n",
              "      <td>0.00</td>\n",
              "      <td>C</td>\n",
              "    </tr>\n",
              "    <tr>\n",
              "      <th>8</th>\n",
              "      <td>100% apple cider juice</td>\n",
              "      <td>46.0</td>\n",
              "      <td>8.33</td>\n",
              "      <td>0.0</td>\n",
              "      <td>0.01500</td>\n",
              "      <td>100.000000</td>\n",
              "      <td>0.0</td>\n",
              "      <td>0.42</td>\n",
              "      <td>B</td>\n",
              "    </tr>\n",
              "    <tr>\n",
              "      <th>9</th>\n",
              "      <td>Core Hydration Water</td>\n",
              "      <td>0.0</td>\n",
              "      <td>0.00</td>\n",
              "      <td>0.0</td>\n",
              "      <td>0.00000</td>\n",
              "      <td>0.000000</td>\n",
              "      <td>0.0</td>\n",
              "      <td>0.00</td>\n",
              "      <td>A</td>\n",
              "    </tr>\n",
              "    <tr>\n",
              "      <th>10</th>\n",
              "      <td>Soda, Black Cherry</td>\n",
              "      <td>48.0</td>\n",
              "      <td>12.39</td>\n",
              "      <td>0.0</td>\n",
              "      <td>0.02500</td>\n",
              "      <td>0.000000</td>\n",
              "      <td>0.0</td>\n",
              "      <td>0.00</td>\n",
              "      <td>C</td>\n",
              "    </tr>\n",
              "    <tr>\n",
              "      <th>11</th>\n",
              "      <td>Cream soda</td>\n",
              "      <td>48.0</td>\n",
              "      <td>12.68</td>\n",
              "      <td>0.0</td>\n",
              "      <td>0.02500</td>\n",
              "      <td>0.000000</td>\n",
              "      <td>0.0</td>\n",
              "      <td>0.00</td>\n",
              "      <td>C</td>\n",
              "    </tr>\n",
              "    <tr>\n",
              "      <th>12</th>\n",
              "      <td>Diet Soda, Cola</td>\n",
              "      <td>0.0</td>\n",
              "      <td>0.00</td>\n",
              "      <td>0.0</td>\n",
              "      <td>0.00762</td>\n",
              "      <td>0.000000</td>\n",
              "      <td>0.0</td>\n",
              "      <td>0.00</td>\n",
              "      <td>A</td>\n",
              "    </tr>\n",
              "    <tr>\n",
              "      <th>13</th>\n",
              "      <td>Soda</td>\n",
              "      <td>42.0</td>\n",
              "      <td>11.27</td>\n",
              "      <td>0.0</td>\n",
              "      <td>0.02500</td>\n",
              "      <td>0.000000</td>\n",
              "      <td>0.0</td>\n",
              "      <td>0.00</td>\n",
              "      <td>C</td>\n",
              "    </tr>\n",
              "    <tr>\n",
              "      <th>14</th>\n",
              "      <td>Soda</td>\n",
              "      <td>49.0</td>\n",
              "      <td>12.89</td>\n",
              "      <td>0.0</td>\n",
              "      <td>0.07620</td>\n",
              "      <td>11.458333</td>\n",
              "      <td>0.0</td>\n",
              "      <td>0.00</td>\n",
              "      <td>C</td>\n",
              "    </tr>\n",
              "    <tr>\n",
              "      <th>15</th>\n",
              "      <td>Schnaps1</td>\n",
              "      <td>353.0</td>\n",
              "      <td>4.00</td>\n",
              "      <td>5.7</td>\n",
              "      <td>0.71000</td>\n",
              "      <td>7.500000</td>\n",
              "      <td>11.0</td>\n",
              "      <td>32.00</td>\n",
              "      <td>C</td>\n",
              "    </tr>\n",
              "    <tr>\n",
              "      <th>16</th>\n",
              "      <td>La Croix LimonCello</td>\n",
              "      <td>0.0</td>\n",
              "      <td>0.00</td>\n",
              "      <td>0.0</td>\n",
              "      <td>0.00000</td>\n",
              "      <td>0.000000</td>\n",
              "      <td>0.0</td>\n",
              "      <td>0.00</td>\n",
              "      <td>A</td>\n",
              "    </tr>\n",
              "    <tr>\n",
              "      <th>17</th>\n",
              "      <td>Sparkling water beverage, kiwi strawberry</td>\n",
              "      <td>0.0</td>\n",
              "      <td>0.00</td>\n",
              "      <td>0.0</td>\n",
              "      <td>0.00000</td>\n",
              "      <td>0.000000</td>\n",
              "      <td>0.0</td>\n",
              "      <td>0.00</td>\n",
              "      <td>A</td>\n",
              "    </tr>\n",
              "    <tr>\n",
              "      <th>18</th>\n",
              "      <td>Caffeine free cola</td>\n",
              "      <td>0.0</td>\n",
              "      <td>0.00</td>\n",
              "      <td>0.0</td>\n",
              "      <td>0.00000</td>\n",
              "      <td>0.000000</td>\n",
              "      <td>0.0</td>\n",
              "      <td>0.00</td>\n",
              "      <td>A</td>\n",
              "    </tr>\n",
              "    <tr>\n",
              "      <th>19</th>\n",
              "      <td>Diet Freshy Soda, Citrus</td>\n",
              "      <td>0.0</td>\n",
              "      <td>0.00</td>\n",
              "      <td>0.0</td>\n",
              "      <td>0.01000</td>\n",
              "      <td>0.000000</td>\n",
              "      <td>0.0</td>\n",
              "      <td>0.00</td>\n",
              "      <td>A</td>\n",
              "    </tr>\n",
              "  </tbody>\n",
              "</table>\n",
              "</div>"
            ],
            "text/plain": [
              "                                         product_name  energy-kcal_100g  \\\n",
              "0                             Veganes Protein Vanille             384.0   \n",
              "1                              Formula 1 healthy meal             380.0   \n",
              "2              Organic Coconut Sparkling Spring Water               0.0   \n",
              "3                                     Sparkling water               0.0   \n",
              "4                                    Ryan's, Lemonade              54.0   \n",
              "5                                         Apple cider              46.0   \n",
              "6   Pumpkin pie flavored apple cider drink, pumpki...              58.0   \n",
              "7                    Caramel flavor apple cider drink              54.0   \n",
              "8                              100% apple cider juice              46.0   \n",
              "9                                Core Hydration Water               0.0   \n",
              "10                                 Soda, Black Cherry              48.0   \n",
              "11                                         Cream soda              48.0   \n",
              "12                                    Diet Soda, Cola               0.0   \n",
              "13                                               Soda              42.0   \n",
              "14                                               Soda              49.0   \n",
              "15                                           Schnaps1             353.0   \n",
              "16                                La Croix LimonCello               0.0   \n",
              "17          Sparkling water beverage, kiwi strawberry               0.0   \n",
              "18                                 Caffeine free cola               0.0   \n",
              "19                           Diet Freshy Soda, Citrus               0.0   \n",
              "\n",
              "    sugars_100g  saturated-fat_100g  salt_100g  \\\n",
              "0          0.30                 0.2    0.80000   \n",
              "1         13.00                 1.8    1.30000   \n",
              "2          0.00                 0.0    0.00000   \n",
              "3          0.00                 0.0    0.00000   \n",
              "4         13.33                 0.0    0.01000   \n",
              "5          8.33                 0.0    0.01500   \n",
              "6         12.92                 0.0    0.00000   \n",
              "7         12.50                 0.0    0.00000   \n",
              "8          8.33                 0.0    0.01500   \n",
              "9          0.00                 0.0    0.00000   \n",
              "10        12.39                 0.0    0.02500   \n",
              "11        12.68                 0.0    0.02500   \n",
              "12         0.00                 0.0    0.00762   \n",
              "13        11.27                 0.0    0.02500   \n",
              "14        12.89                 0.0    0.07620   \n",
              "15         4.00                 5.7    0.71000   \n",
              "16         0.00                 0.0    0.00000   \n",
              "17         0.00                 0.0    0.00000   \n",
              "18         0.00                 0.0    0.00000   \n",
              "19         0.00                 0.0    0.01000   \n",
              "\n",
              "    fruits-vegetables-nuts-estimate-from-ingredients_100g  fiber_100g  \\\n",
              "0                                            0.000000             4.9   \n",
              "1                                            0.000172            20.0   \n",
              "2                                            0.000000             0.0   \n",
              "3                                            0.000000             0.0   \n",
              "4                                           15.832500             0.0   \n",
              "5                                            0.000000             0.0   \n",
              "6                                           18.750000             0.0   \n",
              "7                                            0.000000             0.0   \n",
              "8                                          100.000000             0.0   \n",
              "9                                            0.000000             0.0   \n",
              "10                                           0.000000             0.0   \n",
              "11                                           0.000000             0.0   \n",
              "12                                           0.000000             0.0   \n",
              "13                                           0.000000             0.0   \n",
              "14                                          11.458333             0.0   \n",
              "15                                           7.500000            11.0   \n",
              "16                                           0.000000             0.0   \n",
              "17                                           0.000000             0.0   \n",
              "18                                           0.000000             0.0   \n",
              "19                                           0.000000             0.0   \n",
              "\n",
              "    proteins_100g nutriscore_grade  \n",
              "0           74.10                B  \n",
              "1           40.00                D  \n",
              "2            0.00                A  \n",
              "3            0.00                A  \n",
              "4            0.00                C  \n",
              "5            0.42                C  \n",
              "6            0.00                C  \n",
              "7            0.00                C  \n",
              "8            0.42                B  \n",
              "9            0.00                A  \n",
              "10           0.00                C  \n",
              "11           0.00                C  \n",
              "12           0.00                A  \n",
              "13           0.00                C  \n",
              "14           0.00                C  \n",
              "15          32.00                C  \n",
              "16           0.00                A  \n",
              "17           0.00                A  \n",
              "18           0.00                A  \n",
              "19           0.00                A  "
            ]
          },
          "execution_count": 49,
          "metadata": {},
          "output_type": "execute_result"
        }
      ],
      "source": [
        "# Remove specified columns from the data and make a copy\n",
        "columns_to_remove = [\n",
        "    'energy_points', 'sugars_points', 'saturated_fat_points', 'salt_points',\n",
        "    'fruits_points', 'fiber_points', 'proteins_points', 'total_negative_points',\n",
        "    'total_positive_points', 'total_score'\n",
        "]\n",
        "\n",
        "data_copy = data.drop(columns=columns_to_remove).copy()\n",
        "data_copy['nutriscore_grade'] = data_copy['nutriscore_grade'].map({1: 'A', 2: 'B', 3: 'C', 4: 'D', 5: 'E'})\n",
        "\n",
        "data_copy.head(20)"
      ]
    },
    {
      "cell_type": "code",
      "execution_count": 20,
      "metadata": {
        "id": "AN77Yd8prB_0"
      },
      "outputs": [],
      "source": [
        "# Encode the target variable\n",
        "label_encoder = LabelEncoder()\n",
        "data['nutriscore_grade'] = label_encoder.fit_transform(data['nutriscore_grade'])"
      ]
    },
    {
      "cell_type": "code",
      "execution_count": 21,
      "metadata": {
        "id": "mR3-qMZzrImX"
      },
      "outputs": [],
      "source": [
        "# Define features and target\n",
        "X = data[['energy-kcal_100g', 'sugars_100g', 'saturated-fat_100g', 'salt_100g',\n",
        "          'fruits-vegetables-nuts-estimate-from-ingredients_100g', 'fiber_100g', 'proteins_100g']]\n",
        "y = data['nutriscore_grade']\n",
        "\n",
        "# Split into training and test sets\n",
        "X_train, X_test, y_train, y_test = train_test_split(X, y, test_size=0.2, random_state=42)"
      ]
    },
    {
      "cell_type": "code",
      "execution_count": 22,
      "metadata": {
        "colab": {
          "base_uri": "https://localhost:8080/",
          "height": 234
        },
        "id": "u6vMXkC1MKui",
        "outputId": "8f0f42c0-5aa0-48b0-9c05-e8068bdcd793"
      },
      "outputs": [],
      "source": [
        "# Convert data to NumPy arrays\n",
        "X_train = X_train.to_numpy()\n",
        "X_test = X_test.to_numpy()\n",
        "\n",
        "# Define the normalization layer\n",
        "normalizer = layers.Normalization(axis=-1)\n",
        "normalizer.adapt(X_train)  # Compute mean and variance from the training set"
      ]
    },
    {
      "cell_type": "code",
      "execution_count": 26,
      "metadata": {
        "id": "erQySin7rJCI"
      },
      "outputs": [],
      "source": [
        "# Define the model\n",
        "model = keras.Sequential([\n",
        "    layers.Input(shape=(X_train.shape[1],)),  # Input layer with explicit shape\n",
        "    normalizer,\n",
        "    layers.Dense(32, activation='relu'),\n",
        "    layers.Dense(16, activation='relu'),\n",
        "    layers.Dense(8, activation='relu'),\n",
        "    layers.Dense(len(label_encoder.classes_), activation='softmax')  # Output layer with softmax for multi-class classification\n",
        "])"
      ]
    },
    {
      "cell_type": "code",
      "execution_count": 27,
      "metadata": {
        "id": "NhvUcCZrrP_i"
      },
      "outputs": [],
      "source": [
        "# Compile the model\n",
        "model.compile(optimizer='adam',\n",
        "              loss='sparse_categorical_crossentropy',\n",
        "              metrics=['accuracy'])"
      ]
    },
    {
      "cell_type": "code",
      "execution_count": 28,
      "metadata": {
        "id": "c2u0__K4rQdf"
      },
      "outputs": [],
      "source": [
        "# Define callbacks\n",
        "callbacks = [\n",
        "    EarlyStopping(monitor='val_loss', patience=10, restore_best_weights=True),\n",
        "]"
      ]
    },
    {
      "cell_type": "code",
      "execution_count": 29,
      "metadata": {
        "colab": {
          "base_uri": "https://localhost:8080/"
        },
        "id": "3_3FiW2wrWkt",
        "outputId": "7a253c55-5995-445f-a053-3b5c17327d36"
      },
      "outputs": [
        {
          "name": "stdout",
          "output_type": "stream",
          "text": [
            "Epoch 1/100\n",
            "\u001b[1m450/450\u001b[0m \u001b[32m━━━━━━━━━━━━━━━━━━━━\u001b[0m\u001b[37m\u001b[0m \u001b[1m2s\u001b[0m 2ms/step - accuracy: 0.6667 - loss: 1.1860 - val_accuracy: 0.8711 - val_loss: 0.4358\n",
            "Epoch 2/100\n",
            "\u001b[1m450/450\u001b[0m \u001b[32m━━━━━━━━━━━━━━━━━━━━\u001b[0m\u001b[37m\u001b[0m \u001b[1m1s\u001b[0m 2ms/step - accuracy: 0.8829 - loss: 0.3763 - val_accuracy: 0.9019 - val_loss: 0.3272\n",
            "Epoch 3/100\n",
            "\u001b[1m450/450\u001b[0m \u001b[32m━━━━━━━━━━━━━━━━━━━━\u001b[0m\u001b[37m\u001b[0m \u001b[1m1s\u001b[0m 3ms/step - accuracy: 0.9049 - loss: 0.2937 - val_accuracy: 0.9111 - val_loss: 0.2798\n",
            "Epoch 4/100\n",
            "\u001b[1m450/450\u001b[0m \u001b[32m━━━━━━━━━━━━━━━━━━━━\u001b[0m\u001b[37m\u001b[0m \u001b[1m1s\u001b[0m 2ms/step - accuracy: 0.9136 - loss: 0.2586 - val_accuracy: 0.9216 - val_loss: 0.2450\n",
            "Epoch 5/100\n",
            "\u001b[1m450/450\u001b[0m \u001b[32m━━━━━━━━━━━━━━━━━━━━\u001b[0m\u001b[37m\u001b[0m \u001b[1m1s\u001b[0m 2ms/step - accuracy: 0.9179 - loss: 0.2272 - val_accuracy: 0.9275 - val_loss: 0.2178\n",
            "Epoch 6/100\n",
            "\u001b[1m450/450\u001b[0m \u001b[32m━━━━━━━━━━━━━━━━━━━━\u001b[0m\u001b[37m\u001b[0m \u001b[1m1s\u001b[0m 2ms/step - accuracy: 0.9300 - loss: 0.2001 - val_accuracy: 0.9328 - val_loss: 0.1961\n",
            "Epoch 7/100\n",
            "\u001b[1m450/450\u001b[0m \u001b[32m━━━━━━━━━━━━━━━━━━━━\u001b[0m\u001b[37m\u001b[0m \u001b[1m1s\u001b[0m 2ms/step - accuracy: 0.9348 - loss: 0.1819 - val_accuracy: 0.9364 - val_loss: 0.1833\n",
            "Epoch 8/100\n",
            "\u001b[1m450/450\u001b[0m \u001b[32m━━━━━━━━━━━━━━━━━━━━\u001b[0m\u001b[37m\u001b[0m \u001b[1m1s\u001b[0m 2ms/step - accuracy: 0.9349 - loss: 0.1804 - val_accuracy: 0.9339 - val_loss: 0.1797\n",
            "Epoch 9/100\n",
            "\u001b[1m450/450\u001b[0m \u001b[32m━━━━━━━━━━━━━━━━━━━━\u001b[0m\u001b[37m\u001b[0m \u001b[1m1s\u001b[0m 2ms/step - accuracy: 0.9456 - loss: 0.1590 - val_accuracy: 0.9372 - val_loss: 0.1735\n",
            "Epoch 10/100\n",
            "\u001b[1m450/450\u001b[0m \u001b[32m━━━━━━━━━━━━━━━━━━━━\u001b[0m\u001b[37m\u001b[0m \u001b[1m1s\u001b[0m 2ms/step - accuracy: 0.9459 - loss: 0.1479 - val_accuracy: 0.9411 - val_loss: 0.1642\n",
            "Epoch 11/100\n",
            "\u001b[1m450/450\u001b[0m \u001b[32m━━━━━━━━━━━━━━━━━━━━\u001b[0m\u001b[37m\u001b[0m \u001b[1m1s\u001b[0m 2ms/step - accuracy: 0.9465 - loss: 0.1421 - val_accuracy: 0.9433 - val_loss: 0.1561\n",
            "Epoch 12/100\n",
            "\u001b[1m450/450\u001b[0m \u001b[32m━━━━━━━━━━━━━━━━━━━━\u001b[0m\u001b[37m\u001b[0m \u001b[1m1s\u001b[0m 2ms/step - accuracy: 0.9499 - loss: 0.1383 - val_accuracy: 0.9461 - val_loss: 0.1465\n",
            "Epoch 13/100\n",
            "\u001b[1m450/450\u001b[0m \u001b[32m━━━━━━━━━━━━━━━━━━━━\u001b[0m\u001b[37m\u001b[0m \u001b[1m1s\u001b[0m 2ms/step - accuracy: 0.9539 - loss: 0.1258 - val_accuracy: 0.9447 - val_loss: 0.1548\n",
            "Epoch 14/100\n",
            "\u001b[1m450/450\u001b[0m \u001b[32m━━━━━━━━━━━━━━━━━━━━\u001b[0m\u001b[37m\u001b[0m \u001b[1m1s\u001b[0m 2ms/step - accuracy: 0.9481 - loss: 0.1350 - val_accuracy: 0.9519 - val_loss: 0.1449\n",
            "Epoch 15/100\n",
            "\u001b[1m450/450\u001b[0m \u001b[32m━━━━━━━━━━━━━━━━━━━━\u001b[0m\u001b[37m\u001b[0m \u001b[1m1s\u001b[0m 2ms/step - accuracy: 0.9509 - loss: 0.1245 - val_accuracy: 0.9478 - val_loss: 0.1419\n",
            "Epoch 16/100\n",
            "\u001b[1m450/450\u001b[0m \u001b[32m━━━━━━━━━━━━━━━━━━━━\u001b[0m\u001b[37m\u001b[0m \u001b[1m1s\u001b[0m 2ms/step - accuracy: 0.9541 - loss: 0.1189 - val_accuracy: 0.9472 - val_loss: 0.1362\n",
            "Epoch 17/100\n",
            "\u001b[1m450/450\u001b[0m \u001b[32m━━━━━━━━━━━━━━━━━━━━\u001b[0m\u001b[37m\u001b[0m \u001b[1m1s\u001b[0m 2ms/step - accuracy: 0.9554 - loss: 0.1148 - val_accuracy: 0.9533 - val_loss: 0.1345\n",
            "Epoch 18/100\n",
            "\u001b[1m450/450\u001b[0m \u001b[32m━━━━━━━━━━━━━━━━━━━━\u001b[0m\u001b[37m\u001b[0m \u001b[1m1s\u001b[0m 2ms/step - accuracy: 0.9540 - loss: 0.1158 - val_accuracy: 0.9558 - val_loss: 0.1369\n",
            "Epoch 19/100\n",
            "\u001b[1m450/450\u001b[0m \u001b[32m━━━━━━━━━━━━━━━━━━━━\u001b[0m\u001b[37m\u001b[0m \u001b[1m1s\u001b[0m 3ms/step - accuracy: 0.9573 - loss: 0.1152 - val_accuracy: 0.9508 - val_loss: 0.1324\n",
            "Epoch 20/100\n",
            "\u001b[1m450/450\u001b[0m \u001b[32m━━━━━━━━━━━━━━━━━━━━\u001b[0m\u001b[37m\u001b[0m \u001b[1m1s\u001b[0m 3ms/step - accuracy: 0.9553 - loss: 0.1127 - val_accuracy: 0.9567 - val_loss: 0.1215\n",
            "Epoch 21/100\n",
            "\u001b[1m450/450\u001b[0m \u001b[32m━━━━━━━━━━━━━━━━━━━━\u001b[0m\u001b[37m\u001b[0m \u001b[1m1s\u001b[0m 3ms/step - accuracy: 0.9590 - loss: 0.1047 - val_accuracy: 0.9564 - val_loss: 0.1214\n",
            "Epoch 22/100\n",
            "\u001b[1m450/450\u001b[0m \u001b[32m━━━━━━━━━━━━━━━━━━━━\u001b[0m\u001b[37m\u001b[0m \u001b[1m1s\u001b[0m 3ms/step - accuracy: 0.9548 - loss: 0.1074 - val_accuracy: 0.9519 - val_loss: 0.1249\n",
            "Epoch 23/100\n",
            "\u001b[1m450/450\u001b[0m \u001b[32m━━━━━━━━━━━━━━━━━━━━\u001b[0m\u001b[37m\u001b[0m \u001b[1m1s\u001b[0m 3ms/step - accuracy: 0.9581 - loss: 0.1047 - val_accuracy: 0.9586 - val_loss: 0.1191\n",
            "Epoch 24/100\n",
            "\u001b[1m450/450\u001b[0m \u001b[32m━━━━━━━━━━━━━━━━━━━━\u001b[0m\u001b[37m\u001b[0m \u001b[1m1s\u001b[0m 3ms/step - accuracy: 0.9615 - loss: 0.0983 - val_accuracy: 0.9597 - val_loss: 0.1220\n",
            "Epoch 25/100\n",
            "\u001b[1m450/450\u001b[0m \u001b[32m━━━━━━━━━━━━━━━━━━━━\u001b[0m\u001b[37m\u001b[0m \u001b[1m1s\u001b[0m 3ms/step - accuracy: 0.9600 - loss: 0.0989 - val_accuracy: 0.9583 - val_loss: 0.1153\n",
            "Epoch 26/100\n",
            "\u001b[1m450/450\u001b[0m \u001b[32m━━━━━━━━━━━━━━━━━━━━\u001b[0m\u001b[37m\u001b[0m \u001b[1m1s\u001b[0m 3ms/step - accuracy: 0.9627 - loss: 0.0958 - val_accuracy: 0.9608 - val_loss: 0.1197\n",
            "Epoch 27/100\n",
            "\u001b[1m450/450\u001b[0m \u001b[32m━━━━━━━━━━━━━━━━━━━━\u001b[0m\u001b[37m\u001b[0m \u001b[1m2s\u001b[0m 3ms/step - accuracy: 0.9591 - loss: 0.1008 - val_accuracy: 0.9600 - val_loss: 0.1226\n",
            "Epoch 28/100\n",
            "\u001b[1m450/450\u001b[0m \u001b[32m━━━━━━━━━━━━━━━━━━━━\u001b[0m\u001b[37m\u001b[0m \u001b[1m2s\u001b[0m 3ms/step - accuracy: 0.9612 - loss: 0.0944 - val_accuracy: 0.9605 - val_loss: 0.1125\n",
            "Epoch 29/100\n",
            "\u001b[1m450/450\u001b[0m \u001b[32m━━━━━━━━━━━━━━━━━━━━\u001b[0m\u001b[37m\u001b[0m \u001b[1m2s\u001b[0m 3ms/step - accuracy: 0.9676 - loss: 0.0847 - val_accuracy: 0.9594 - val_loss: 0.1192\n",
            "Epoch 30/100\n",
            "\u001b[1m450/450\u001b[0m \u001b[32m━━━━━━━━━━━━━━━━━━━━\u001b[0m\u001b[37m\u001b[0m \u001b[1m2s\u001b[0m 3ms/step - accuracy: 0.9632 - loss: 0.0937 - val_accuracy: 0.9594 - val_loss: 0.1180\n",
            "Epoch 31/100\n",
            "\u001b[1m450/450\u001b[0m \u001b[32m━━━━━━━━━━━━━━━━━━━━\u001b[0m\u001b[37m\u001b[0m \u001b[1m1s\u001b[0m 3ms/step - accuracy: 0.9632 - loss: 0.0966 - val_accuracy: 0.9578 - val_loss: 0.1154\n",
            "Epoch 32/100\n",
            "\u001b[1m450/450\u001b[0m \u001b[32m━━━━━━━━━━━━━━━━━━━━\u001b[0m\u001b[37m\u001b[0m \u001b[1m1s\u001b[0m 3ms/step - accuracy: 0.9612 - loss: 0.0925 - val_accuracy: 0.9608 - val_loss: 0.1131\n",
            "Epoch 33/100\n",
            "\u001b[1m450/450\u001b[0m \u001b[32m━━━━━━━━━━━━━━━━━━━━\u001b[0m\u001b[37m\u001b[0m \u001b[1m1s\u001b[0m 2ms/step - accuracy: 0.9648 - loss: 0.0851 - val_accuracy: 0.9617 - val_loss: 0.1108\n",
            "Epoch 34/100\n",
            "\u001b[1m450/450\u001b[0m \u001b[32m━━━━━━━━━━━━━━━━━━━━\u001b[0m\u001b[37m\u001b[0m \u001b[1m1s\u001b[0m 3ms/step - accuracy: 0.9662 - loss: 0.0881 - val_accuracy: 0.9569 - val_loss: 0.1140\n",
            "Epoch 35/100\n",
            "\u001b[1m450/450\u001b[0m \u001b[32m━━━━━━━━━━━━━━━━━━━━\u001b[0m\u001b[37m\u001b[0m \u001b[1m1s\u001b[0m 2ms/step - accuracy: 0.9655 - loss: 0.0856 - val_accuracy: 0.9636 - val_loss: 0.1143\n",
            "Epoch 36/100\n",
            "\u001b[1m450/450\u001b[0m \u001b[32m━━━━━━━━━━━━━━━━━━━━\u001b[0m\u001b[37m\u001b[0m \u001b[1m1s\u001b[0m 2ms/step - accuracy: 0.9631 - loss: 0.0895 - val_accuracy: 0.9617 - val_loss: 0.1106\n",
            "Epoch 37/100\n",
            "\u001b[1m450/450\u001b[0m \u001b[32m━━━━━━━━━━━━━━━━━━━━\u001b[0m\u001b[37m\u001b[0m \u001b[1m1s\u001b[0m 2ms/step - accuracy: 0.9667 - loss: 0.0849 - val_accuracy: 0.9525 - val_loss: 0.1373\n",
            "Epoch 38/100\n",
            "\u001b[1m450/450\u001b[0m \u001b[32m━━━━━━━━━━━━━━━━━━━━\u001b[0m\u001b[37m\u001b[0m \u001b[1m1s\u001b[0m 2ms/step - accuracy: 0.9634 - loss: 0.0918 - val_accuracy: 0.9625 - val_loss: 0.1103\n",
            "Epoch 39/100\n",
            "\u001b[1m450/450\u001b[0m \u001b[32m━━━━━━━━━━━━━━━━━━━━\u001b[0m\u001b[37m\u001b[0m \u001b[1m1s\u001b[0m 2ms/step - accuracy: 0.9662 - loss: 0.0834 - val_accuracy: 0.9608 - val_loss: 0.1066\n",
            "Epoch 40/100\n",
            "\u001b[1m450/450\u001b[0m \u001b[32m━━━━━━━━━━━━━━━━━━━━\u001b[0m\u001b[37m\u001b[0m \u001b[1m1s\u001b[0m 2ms/step - accuracy: 0.9628 - loss: 0.0902 - val_accuracy: 0.9614 - val_loss: 0.1161\n",
            "Epoch 41/100\n",
            "\u001b[1m450/450\u001b[0m \u001b[32m━━━━━━━━━━━━━━━━━━━━\u001b[0m\u001b[37m\u001b[0m \u001b[1m1s\u001b[0m 2ms/step - accuracy: 0.9681 - loss: 0.0827 - val_accuracy: 0.9614 - val_loss: 0.1140\n",
            "Epoch 42/100\n",
            "\u001b[1m450/450\u001b[0m \u001b[32m━━━━━━━━━━━━━━━━━━━━\u001b[0m\u001b[37m\u001b[0m \u001b[1m1s\u001b[0m 2ms/step - accuracy: 0.9699 - loss: 0.0757 - val_accuracy: 0.9611 - val_loss: 0.1115\n",
            "Epoch 43/100\n",
            "\u001b[1m450/450\u001b[0m \u001b[32m━━━━━━━━━━━━━━━━━━━━\u001b[0m\u001b[37m\u001b[0m \u001b[1m1s\u001b[0m 2ms/step - accuracy: 0.9682 - loss: 0.0843 - val_accuracy: 0.9642 - val_loss: 0.1109\n",
            "Epoch 44/100\n",
            "\u001b[1m450/450\u001b[0m \u001b[32m━━━━━━━━━━━━━━━━━━━━\u001b[0m\u001b[37m\u001b[0m \u001b[1m1s\u001b[0m 2ms/step - accuracy: 0.9648 - loss: 0.0885 - val_accuracy: 0.9644 - val_loss: 0.1128\n",
            "Epoch 45/100\n",
            "\u001b[1m450/450\u001b[0m \u001b[32m━━━━━━━━━━━━━━━━━━━━\u001b[0m\u001b[37m\u001b[0m \u001b[1m1s\u001b[0m 2ms/step - accuracy: 0.9684 - loss: 0.0807 - val_accuracy: 0.9639 - val_loss: 0.1123\n",
            "Epoch 46/100\n",
            "\u001b[1m450/450\u001b[0m \u001b[32m━━━━━━━━━━━━━━━━━━━━\u001b[0m\u001b[37m\u001b[0m \u001b[1m1s\u001b[0m 2ms/step - accuracy: 0.9655 - loss: 0.0811 - val_accuracy: 0.9589 - val_loss: 0.1125\n",
            "Epoch 47/100\n",
            "\u001b[1m450/450\u001b[0m \u001b[32m━━━━━━━━━━━━━━━━━━━━\u001b[0m\u001b[37m\u001b[0m \u001b[1m1s\u001b[0m 2ms/step - accuracy: 0.9666 - loss: 0.0806 - val_accuracy: 0.9589 - val_loss: 0.1235\n",
            "Epoch 48/100\n",
            "\u001b[1m450/450\u001b[0m \u001b[32m━━━━━━━━━━━━━━━━━━━━\u001b[0m\u001b[37m\u001b[0m \u001b[1m1s\u001b[0m 2ms/step - accuracy: 0.9654 - loss: 0.0869 - val_accuracy: 0.9550 - val_loss: 0.1261\n",
            "Epoch 49/100\n",
            "\u001b[1m450/450\u001b[0m \u001b[32m━━━━━━━━━━━━━━━━━━━━\u001b[0m\u001b[37m\u001b[0m \u001b[1m1s\u001b[0m 2ms/step - accuracy: 0.9681 - loss: 0.0837 - val_accuracy: 0.9644 - val_loss: 0.1092\n"
          ]
        }
      ],
      "source": [
        "history = model.fit(\n",
        "    X_train, y_train,\n",
        "    epochs=100,\n",
        "    batch_size=32,\n",
        "    validation_split=0.2,\n",
        "    callbacks=callbacks\n",
        ")"
      ]
    },
    {
      "cell_type": "code",
      "execution_count": 34,
      "metadata": {
        "colab": {
          "base_uri": "https://localhost:8080/"
        },
        "id": "Z8Qw8VG5rc3H",
        "outputId": "44df081f-eea7-4ed0-e5df-0b68ea176228"
      },
      "outputs": [
        {
          "name": "stdout",
          "output_type": "stream",
          "text": [
            "\u001b[1m141/141\u001b[0m \u001b[32m━━━━━━━━━━━━━━━━━━━━\u001b[0m\u001b[37m\u001b[0m \u001b[1m0s\u001b[0m 2ms/step - accuracy: 0.9591 - loss: 0.1077\n",
            "Test accuracy: 0.9602\n",
            "Test loss: 0.0988\n",
            "Validation accuracy: 0.9644\n",
            "Validation loss: 0.1092\n"
          ]
        }
      ],
      "source": [
        "# Evaluate the model on the test set\n",
        "test_loss, test_accuracy = model.evaluate(X_test, y_test)\n",
        "print(f'Test accuracy: {test_accuracy:.4f}')\n",
        "print(f'Test loss: {test_loss:.4f}')\n",
        "\n",
        "val_accuracy = history.history['val_accuracy'][-1]  #\n",
        "val_loss = history.history['val_loss'][-1]  \n",
        "print(f'Validation accuracy: {val_accuracy:.4f}')\n",
        "print(f'Validation loss: {val_loss:.4f}')\n"
      ]
    },
    {
      "cell_type": "code",
      "execution_count": null,
      "metadata": {
        "colab": {
          "base_uri": "https://localhost:8080/"
        },
        "id": "55BqecWhrfa_",
        "outputId": "43ce82d1-aece-4c68-8a4c-b2a94523e75d"
      },
      "outputs": [
        {
          "name": "stderr",
          "output_type": "stream",
          "text": [
            "WARNING:absl:You are saving your model as an HDF5 file via `model.save()` or `keras.saving.save_model(model)`. This file format is considered legacy. We recommend using instead the native Keras format, e.g. `model.save('my_model.keras')` or `keras.saving.save_model(model, 'my_model.keras')`. \n"
          ]
        },
        {
          "name": "stdout",
          "output_type": "stream",
          "text": [
            "Final model saved as 'final_nutriscore_model.h5'.\n"
          ]
        }
      ],
      "source": [
        "# Save the full model in .h5 format\n",
        "model.save('final_nutriscore_model_2.h5')\n",
        "print(\"Final model saved as 'final_nutriscore_model.h5'.\")"
      ]
    },
    {
      "cell_type": "code",
      "execution_count": 31,
      "metadata": {
        "colab": {
          "base_uri": "https://localhost:8080/",
          "height": 584
        },
        "id": "L2gvrVhqrhyG",
        "outputId": "b49dd1d4-a0f5-4fb8-c4a5-f56194ed7235"
      },
      "outputs": [
        {
          "data": {
            "image/png": "[encoded data removed]",
            "text/plain": [
              "<Figure size 1000x600 with 1 Axes>"
            ]
          },
          "metadata": {},
          "output_type": "display_data"
        }
      ],
      "source": [
        "# Plot training and validation accuracy\n",
        "plt.figure(figsize=(10, 6))\n",
        "plt.plot(history.history['accuracy'], label='Training Accuracy')\n",
        "plt.plot(history.history['val_accuracy'], label='Validation Accuracy')\n",
        "plt.title('Training and Validation Accuracy')\n",
        "plt.xlabel('Epochs')\n",
        "plt.ylabel('Accuracy')\n",
        "plt.legend()\n",
        "plt.grid(True)\n",
        "plt.show()"
      ]
    },
    {
      "cell_type": "code",
      "execution_count": 33,
      "metadata": {},
      "outputs": [
        {
          "data": {
            "image/png": "[encoded data removed]",
            "text/plain": [
              "<Figure size 1000x600 with 1 Axes>"
            ]
          },
          "metadata": {},
          "output_type": "display_data"
        }
      ],
      "source": [
        "# Plot training and validation loss\n",
        "plt.figure(figsize=(10, 6))\n",
        "plt.plot(history.history['loss'], label='Training Loss')\n",
        "plt.plot(history.history['val_loss'], label='Validation Loss')\n",
        "plt.title('Training and Validation Loss')\n",
        "plt.xlabel('Epochs')\n",
        "plt.ylabel('Loss')\n",
        "plt.legend()\n",
        "plt.grid(True)\n",
        "plt.show()"
      ]
    }
  ],
  "metadata": {
    "colab": {
      "provenance": []
    },
    "kernelspec": {
      "display_name": "kepstone",
      "language": "python",
      "name": "python3"
    },
    "language_info": {
      "codemirror_mode": {
        "name": "ipython",
        "version": 3
      },
      "file_extension": ".py",
      "mimetype": "text/x-python",
      "name": "python",
      "nbconvert_exporter": "python",
      "pygments_lexer": "ipython3",
      "version": "3.11.10"
    }
  },
  "nbformat": 4,
  "nbformat_minor": 0
}
