{
 "cells": [
  {
   "cell_type": "markdown",
   "metadata": {
    "id": "CtTwE3BzIGZW"
   },
   "source": [
    "#NutriScore"
   ]
  },
  {
   "cell_type": "markdown",
   "metadata": {
    "id": "OkM8ZiLBqsGS"
   },
   "source": [
    "## Neural Network"
   ]
  },
  {
   "cell_type": "code",
   "execution_count": 22,
   "metadata": {
    "id": "3UnVbIYRffnf"
   },
   "outputs": [],
   "source": [
    "import pandas as pd\n",
    "import numpy as np\n",
    "from sklearn.model_selection import train_test_split\n",
    "from sklearn.preprocessing import LabelEncoder\n",
    "from tensorflow import keras\n",
    "from tensorflow.keras import layers\n",
    "from tensorflow.keras.callbacks import EarlyStopping, ModelCheckpoint\n",
    "import matplotlib.pyplot as plt"
   ]
  },
  {
   "cell_type": "code",
   "execution_count": 23,
   "metadata": {},
   "outputs": [],
   "source": [
    "data = pd.read_csv('../ML/data/train_final.csv')"
   ]
  },
  {
   "cell_type": "code",
   "execution_count": 24,
   "metadata": {},
   "outputs": [
    {
     "name": "stdout",
     "output_type": "stream",
     "text": [
      "Number of rows after cleaning: 22494\n"
     ]
    }
   ],
   "source": [
    "# Count the number of rows after cleaning\n",
    "row_count = data.shape[0]\n",
    "\n",
    "# Print the count\n",
    "print(f\"Number of rows after cleaning: {row_count}\")"
   ]
  },
  {
   "cell_type": "code",
   "execution_count": 25,
   "metadata": {},
   "outputs": [
    {
     "name": "stdout",
     "output_type": "stream",
     "text": [
      "nutriscore_grade\n",
      "D    8031\n",
      "B    7368\n",
      "C    5489\n",
      "E    1462\n",
      "A     144\n",
      "Name: count, dtype: int64\n"
     ]
    }
   ],
   "source": [
    "nutriscore_counts = data['nutriscore_grade'].value_counts()\n",
    "\n",
    "# Display the counts for each Nutri-Score\n",
    "print(nutriscore_counts)"
   ]
  },
  {
   "cell_type": "code",
   "execution_count": 26,
   "metadata": {
    "id": "mR3-qMZzrImX"
   },
   "outputs": [
    {
     "name": "stdout",
     "output_type": "stream",
     "text": [
      "                                        product_name  energy-kcal_100g  \\\n",
      "0                            Veganes Protein Vanille             384.0   \n",
      "1                             Formula 1 healthy meal             380.0   \n",
      "4                                   Ryan's, Lemonade              54.0   \n",
      "5                                        Apple cider              46.0   \n",
      "6  Pumpkin pie flavored apple cider drink, pumpki...              58.0   \n",
      "\n",
      "   sugars_100g  saturated-fat_100g  salt_100g  \\\n",
      "0         0.30                 0.2      0.800   \n",
      "1        13.00                 1.8      1.300   \n",
      "4        13.33                 0.0      0.010   \n",
      "5         8.33                 0.0      0.015   \n",
      "6        12.92                 0.0      0.000   \n",
      "\n",
      "   fruits-vegetables-nuts-estimate-from-ingredients_100g  fiber_100g  \\\n",
      "0                                           0.000000             4.9   \n",
      "1                                           0.000172            20.0   \n",
      "4                                          15.832500             0.0   \n",
      "5                                           0.000000             0.0   \n",
      "6                                          18.750000             0.0   \n",
      "\n",
      "   proteins_100g  energy_points  sugars_points  saturated_fat_points  \\\n",
      "0          74.10             10              1                     0   \n",
      "1          40.00             10              9                     1   \n",
      "4           0.00              8              9                     0   \n",
      "5           0.42              7              6                     0   \n",
      "6           0.00              9              9                     0   \n",
      "\n",
      "   salt_points  fruits_points  fiber_points  proteins_points  \\\n",
      "0            8              0             5                5   \n",
      "1           10              0             5                5   \n",
      "4            0              0             0                0   \n",
      "5            0              0             0                0   \n",
      "6            0              0             0                0   \n",
      "\n",
      "   total_negative_points  total_positive_points  total_score nutriscore_grade  \n",
      "0                     19                     10            9                C  \n",
      "1                     30                     10           20                E  \n",
      "4                     17                      0           17                D  \n",
      "5                     13                      0           13                D  \n",
      "6                     18                      0           18                D  \n"
     ]
    }
   ],
   "source": [
    "point_columns = [\n",
    "    'energy_points',\n",
    "    'sugars_points',\n",
    "    'saturated_fat_points',\n",
    "    'salt_points',\n",
    "    'fruits_points',\n",
    "    'fiber_points',\n",
    "    'proteins_points',\n",
    "]\n",
    "\n",
    "# Remove rows where all point columns are zero\n",
    "data_cleaned = data[~(data[point_columns] == 0).all(axis=1)]\n",
    "\n",
    "# Check the cleaned DataFrame\n",
    "print(data_cleaned.head())"
   ]
  },
  {
   "cell_type": "code",
   "execution_count": 27,
   "metadata": {
    "id": "erQySin7rJCI"
   },
   "outputs": [
    {
     "name": "stdout",
     "output_type": "stream",
     "text": [
      "Number of rows after cleaning: 16788\n"
     ]
    }
   ],
   "source": [
    "# Count the number of rows after cleaning\n",
    "row_count = data_cleaned.shape[0]\n",
    "\n",
    "# Print the count\n",
    "print(f\"Number of rows after cleaning: {row_count}\")"
   ]
  },
  {
   "cell_type": "code",
   "execution_count": 28,
   "metadata": {
    "id": "NhvUcCZrrP_i"
   },
   "outputs": [],
   "source": [
    "data_cleaned.to_csv('../ML/data/train_vertex.csv', index=False)"
   ]
  }
 ],
 "metadata": {
  "colab": {
   "provenance": []
  },
  "kernelspec": {
   "display_name": "kepstone",
   "language": "python",
   "name": "python3"
  },
  "language_info": {
   "codemirror_mode": {
    "name": "ipython",
    "version": 3
   },
   "file_extension": ".py",
   "mimetype": "text/x-python",
   "name": "python",
   "nbconvert_exporter": "python",
   "pygments_lexer": "ipython3",
   "version": "3.11.10"
  }
 },
 "nbformat": 4,
 "nbformat_minor": 0
}
